{
 "cells": [
  {
   "cell_type": "code",
   "execution_count": 1,
   "metadata": {},
   "outputs": [],
   "source": [
    "import numpy as np\n",
    "import pandas as pd\n",
    "from sklearn.svm import SVC, SVR\n",
    "from sklearn.metrics import accuracy_score"
   ]
  },
  {
   "cell_type": "markdown",
   "metadata": {},
   "source": [
    "## Load data"
   ]
  },
  {
   "cell_type": "code",
   "execution_count": 89,
   "metadata": {},
   "outputs": [],
   "source": [
    "x_train = np.load(\"x_train.npy\")\n",
    "y_train = np.load(\"y_train.npy\")\n",
    "x_test = np.load(\"x_test.npy\")\n",
    "# y_test = np.load(\"y_test.npy\")"
   ]
  },
  {
   "cell_type": "code",
   "execution_count": 12,
   "metadata": {},
   "outputs": [
    {
     "name": "stdout",
     "output_type": "stream",
     "text": [
      "(7000, 300)\n"
     ]
    }
   ],
   "source": [
    "# 7000 data with 300 features\n",
    "print(x_train.shape)"
   ]
  },
  {
   "cell_type": "code",
   "execution_count": 4,
   "metadata": {},
   "outputs": [
    {
     "name": "stdout",
     "output_type": "stream",
     "text": [
      "[0 1]\n"
     ]
    }
   ],
   "source": [
    "# It's a binary classification problem \n",
    "print(np.unique(y_train))"
   ]
  },
  {
   "cell_type": "markdown",
   "metadata": {},
   "source": [
    "## Question 1\n",
    "K-fold data partition: Implement the K-fold cross-validation function. Your function should take K as an argument and return a list of lists (len(list) should equal to K), which contains K elements. Each element is a list contains two parts, the first part contains the index of all training folds, e.g. Fold 2 to Fold 5 in split 1. The second part contains the index of validation fold, e.g. Fold 1 in  split 1"
   ]
  },
  {
   "cell_type": "code",
   "execution_count": 90,
   "metadata": {},
   "outputs": [],
   "source": [
    "def cross_validation(y_train, k=5):\n",
    "    idxarr = np.arange(len(y_train))\n",
    "    np.random.shuffle(idxarr)\n",
    "    Q = int( len(y_train) / k )\n",
    "    print(Q)\n",
    "    rem = len(y_train) % k\n",
    "    \n",
    "    ret = [[] for _ in range(k)]\n",
    "    foldsize = np.zeros(k)\n",
    "    for i in range(k):\n",
    "        if k < rem:\n",
    "            foldsize[i] = Q + 1\n",
    "        else:\n",
    "            foldsize[i] = Q\n",
    "    \n",
    "    for i in range(k):\n",
    "        train = []\n",
    "        val = []\n",
    "        start = 0\n",
    "        for j in range(k): \n",
    "            if j == i:\n",
    "                for s in range(int(foldsize[j])):\n",
    "                    val.append(idxarr[start])\n",
    "                    start += 1\n",
    "            else:\n",
    "                for s in range(int(foldsize[j])):\n",
    "                    train.append(idxarr[start])\n",
    "                    start += 1\n",
    "        ret[i].append(np.array(train))\n",
    "        ret[i].append(np.array(val))\n",
    "    print(len(ret[0]))\n",
    "    return ret\n",
    "            \n",
    "                \n",
    "\n",
    "            \n",
    "        \n",
    "\n"
   ]
  },
  {
   "cell_type": "code",
   "execution_count": 82,
   "metadata": {},
   "outputs": [
    {
     "name": "stdout",
     "output_type": "stream",
     "text": [
      "700\n",
      "2\n"
     ]
    }
   ],
   "source": [
    "kfold_data = cross_validation(y_train, k=10)\n",
    "assert len(kfold_data) == 10 # should contain 10 fold of data\n",
    "assert len(kfold_data[0]) == 2 # each element should contain train fold and validation fold\n",
    "assert kfold_data[0][1].shape[0] == 700 # The number of data in each validation fold should equal to training data divieded by K"
   ]
  },
  {
   "cell_type": "markdown",
   "metadata": {},
   "source": [
    "## example"
   ]
  },
  {
   "cell_type": "code",
   "execution_count": 64,
   "metadata": {},
   "outputs": [
    {
     "name": "stdout",
     "output_type": "stream",
     "text": [
      "Split: 1, Training index: [ 0  2  3  4  5  6  7  8 11 12 13 14 16 17 18 19], Validation index: [ 1  9 10 15]\n",
      "Split: 2, Training index: [ 0  1  2  4  5  6  8  9 10 12 13 14 15 16 17 19], Validation index: [ 3  7 11 18]\n",
      "Split: 3, Training index: [ 0  1  2  3  5  6  7  8  9 10 11 12 15 16 17 18], Validation index: [ 4 13 14 19]\n",
      "Split: 4, Training index: [ 0  1  3  4  5  7  9 10 11 13 14 15 16 17 18 19], Validation index: [ 2  6  8 12]\n",
      "Split: 5, Training index: [ 1  2  3  4  6  7  8  9 10 11 12 13 14 15 18 19], Validation index: [ 0  5 16 17]\n"
     ]
    }
   ],
   "source": [
    "from sklearn.model_selection import KFold\n",
    "\n",
    "X = np.arange(20)\n",
    "kf = KFold(n_splits=5, shuffle=True)\n",
    "kfold_data= []\n",
    "for i, (train_index, val_index) in enumerate(kf.split(X)):\n",
    "    print(\"Split: %s, Training index: %s, Validation index: %s\" % (i+1, train_index, val_index))\n",
    "    kfold_data.append([train_index, val_index])"
   ]
  },
  {
   "cell_type": "code",
   "execution_count": 65,
   "metadata": {},
   "outputs": [],
   "source": [
    "assert len(kfold_data) == 5 # should contain 5 fold of data\n",
    "assert len(kfold_data[0]) == 2 # each element should contains index of training fold and validation fold\n",
    "assert kfold_data[0][1].shape[0] == 4 # The number of data in each validation fold should equal to training data divieded by K"
   ]
  },
  {
   "cell_type": "markdown",
   "metadata": {},
   "source": [
    "## Question 2\n",
    "Using sklearn.svm.SVC to train a classifier on the provided train set and conduct the grid search of “C” and “gamma” to find the best parameters by cross-validation."
   ]
  },
  {
   "cell_type": "code",
   "execution_count": 91,
   "metadata": {},
   "outputs": [],
   "source": [
    "clf = SVC(C=1.0, kernel='rbf', gamma=0.01)"
   ]
  },
  {
   "cell_type": "code",
   "execution_count": 92,
   "metadata": {},
   "outputs": [
    {
     "name": "stdout",
     "output_type": "stream",
     "text": [
      "1400\n",
      "2\n"
     ]
    }
   ],
   "source": [
    "## your code\n",
    "k = 5\n",
    "kfold_data = cross_validation(y_train, k=k)\n",
    "#C = [0.1, 1, 10] -> 0.1\n",
    "#gamma = [0.01, 0.1, 1, 10] -> 0.01\n",
    "#C = [0.05, 0.1, 0.15, 0.25, 0.35] -> 0.05\n",
    "#gamma = [0.005, 0.01, 0.015, 0.02] -> 0.005\n",
    "C = [0.005, 0.01, 0.03, 0.05, 0.08]\n",
    "gamma = [0.0005, 0.001, 0.003, 0.005, 0.008]\n",
    "bestacc = 0\n",
    "bestc = 0\n",
    "bestgamma = 0\n",
    "for c in C:\n",
    "    for gam in gamma:\n",
    "        clf = SVC(C=c, kernel='rbf', gamma=gam)\n",
    "        acc = 0.0\n",
    "        for i in range(k):\n",
    "            clf.fit(x_train[kfold_data[i][0]], y_train[kfold_data[i][0]]) # training data\n",
    "            pred = clf.predict(x_train[kfold_data[i][1]]) # validation data\n",
    "            acc += accuracy_score(pred, y_train[kfold_data[i][1]])\n",
    "        acc /= (k)\n",
    "        if(acc > bestacc):\n",
    "            bestacc = acc\n",
    "            bestc = c\n",
    "            bestgamma = gam\n",
    "best_parameters = (bestc, bestgamma)\n"
   ]
  },
  {
   "cell_type": "code",
   "execution_count": 80,
   "metadata": {},
   "outputs": [
    {
     "name": "stdout",
     "output_type": "stream",
     "text": [
      "(0.05, 0.005)\n",
      "0.39840000000000003\n"
     ]
    }
   ],
   "source": [
    "print(best_parameters)\n",
    "print(bestacc*(k-1)/k)"
   ]
  },
  {
   "cell_type": "markdown",
   "metadata": {},
   "source": [
    "## Question 3\n",
    "Plot the grid search results of your SVM. The x, y represents the hyperparameters of “gamma” and “C”, respectively. And the color represents the average score of validation folds\n",
    "You reults should be look like this reference image below ![image](https://miro.medium.com/max/1296/1*wGWTup9r4cVytB5MOnsjdQ.png) "
   ]
  },
  {
   "cell_type": "markdown",
   "metadata": {},
   "source": [
    "## Question 4\n",
    "Train your SVM model by the best parameters you found from question 2 on the whole training set and evaluate the performance on the test set."
   ]
  },
  {
   "cell_type": "code",
   "execution_count": null,
   "metadata": {},
   "outputs": [],
   "source": [
    "y_pred = best_model.predict(x_test)\n",
    "print(\"Accuracy score: \", accuracy_score(y_pred, y_test))"
   ]
  }
 ],
 "metadata": {
  "kernelspec": {
   "display_name": "Python 3.7.10 ('base')",
   "language": "python",
   "name": "python3"
  },
  "language_info": {
   "codemirror_mode": {
    "name": "ipython",
    "version": 3
   },
   "file_extension": ".py",
   "mimetype": "text/x-python",
   "name": "python",
   "nbconvert_exporter": "python",
   "pygments_lexer": "ipython3",
   "version": "3.7.10"
  },
  "vscode": {
   "interpreter": {
    "hash": "ab78bb3c465f8a9a3b2b3033a0b53f8ddb3d4f2700280c40496e40ae689e591d"
   }
  }
 },
 "nbformat": 4,
 "nbformat_minor": 4
}
