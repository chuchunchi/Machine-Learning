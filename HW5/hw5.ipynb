{
 "cells": [
  {
   "cell_type": "code",
   "execution_count": 1,
   "metadata": {},
   "outputs": [],
   "source": [
    "import csv\n",
    "import cv2\n",
    "import numpy as np\n",
    "import random\n",
    "import os\n",
    "\n",
    "from tqdm import tqdm\n",
    "\n",
    "import torch\n",
    "import torch.nn as nn\n",
    "from torchvision import models,transforms, datasets\n",
    "from torch.utils.data import Dataset, DataLoader\n",
    "import matplotlib.pyplot as plt\n",
    "import matplotlib.image as mpimg\n",
    "from torch.autograd import Variable\n",
    "import torch.nn.functional as F\n",
    "import torch.optim as optim"
   ]
  },
  {
   "cell_type": "code",
   "execution_count": 2,
   "metadata": {},
   "outputs": [],
   "source": [
    "TRAIN_PATH = \"train\"\n",
    "TEST_PATH = \"test\"\n",
    "BATCH = 50\n",
    "device = \"cuda\" if torch.cuda.is_available() else \"cpu\"\n",
    "# try device = \"cuda\" \n",
    "# and change your settings/accelerator to GPU if you want it to run faster"
   ]
  },
  {
   "cell_type": "code",
   "execution_count": 3,
   "metadata": {},
   "outputs": [],
   "source": [
    "ALPHABET = ['a', 'b', 'c', 'd', 'e', 'f', 'g', 'h', 'i', 'j', 'k', 'l', 'm', 'n', 'o', 'p', 'q', 'r', 's', 't', 'u', 'v', 'w', 'x', 'y', 'z']\n",
    "NUMBER = ['0', '1', '2', '3', '4', '5', '6', '7', '8', '9']\n",
    "NUM_ALPHA = NUMBER + ALPHABET\n",
    "def encode(label):\n",
    "    ohlabel = []\n",
    "    for l in label:\n",
    "        oh = [0]*len(NUM_ALPHA)\n",
    "        idx = NUM_ALPHA.index(l)\n",
    "        oh[idx] = 1\n",
    "        ohlabel += oh\n",
    "    #print(label)\n",
    "    #print(ohlabel)\n",
    "    return np.array(ohlabel)\n",
    "\n",
    "        "
   ]
  },
  {
   "cell_type": "code",
   "execution_count": 4,
   "metadata": {},
   "outputs": [
    {
     "data": {
      "text/plain": [
       "'from captcha.image import ImageCaptcha\\nimport matplotlib.pyplot as plt\\nimport numpy as np\\nimport random\\n\\nimport string\\n\\nwidth, height, n_len, n_class = 72, 72, 2, len(NUM_ALPHA)\\nfor i in range(5000):\\n    generator = ImageCaptcha(width=width, height=height)\\n    random_str = \\'\\'.join([random.choice(NUM_ALPHA) for j in range(n_len)])\\n    img = generator.generate_image(random_str)\\n\\n    with open(\\'./train/annotations.csv\\', \\'a\\', newline=\\'\\') as csvfile:\\n        csv_writer = csv.writer(csvfile)\\n        csv_writer.writerow([f\"task2/moretrain{i}.png\", random_str])\\n    img.save(f\"./train/task2/moretrain{i}.png\")\\n'"
      ]
     },
     "execution_count": 4,
     "metadata": {},
     "output_type": "execute_result"
    }
   ],
   "source": [
    "'''from captcha.image import ImageCaptcha\n",
    "import matplotlib.pyplot as plt\n",
    "import numpy as np\n",
    "import random\n",
    "\n",
    "import string\n",
    "\n",
    "width, height, n_len, n_class = 72, 72, 2, len(NUM_ALPHA)\n",
    "for i in range(5000):\n",
    "    generator = ImageCaptcha(width=width, height=height)\n",
    "    random_str = ''.join([random.choice(NUM_ALPHA) for j in range(n_len)])\n",
    "    img = generator.generate_image(random_str)\n",
    "\n",
    "    with open('./train/annotations.csv', 'a', newline='') as csvfile:\n",
    "        csv_writer = csv.writer(csvfile)\n",
    "        csv_writer.writerow([f\"task2/moretrain{i}.png\", random_str])\n",
    "    img.save(f\"./train/task2/moretrain{i}.png\")\n",
    "'''\n"
   ]
  },
  {
   "cell_type": "code",
   "execution_count": 5,
   "metadata": {},
   "outputs": [],
   "source": [
    "class Task1Dataset(Dataset):\n",
    "    def __init__(self, data, root, return_filename=False):\n",
    "        self.data = [sample for sample in data if sample[0].startswith(\"task1\")]\n",
    "        self.return_filename = return_filename\n",
    "        self.root = root\n",
    "        self.captchalen = 1\n",
    "        self.h = None\n",
    "        self.w = None\n",
    "        self.c = 3\n",
    "    \n",
    "    def __getitem__(self, index):\n",
    "        filename, label = self.data[index]\n",
    "        img = cv2.imread(f\"{self.root}/{filename}\")\n",
    "        img = cv2.cvtColor(img, cv2.COLOR_BGR2GRAY)\n",
    "        h, w= img.shape\n",
    "        self.h = h\n",
    "        self.w = w\n",
    "        #img = cv2.resize(img, (512,512))\n",
    "        #img = np.mean(img, axis=2)\n",
    "        #print(img.shape)\n",
    "        if self.return_filename:\n",
    "            return torch.FloatTensor(img), filename\n",
    "        else:\n",
    "            return torch.FloatTensor(img), encode(label)\n",
    "\n",
    "    def __len__(self):\n",
    "        return len(self.data)"
   ]
  },
  {
   "cell_type": "code",
   "execution_count": 6,
   "metadata": {},
   "outputs": [],
   "source": [
    "class Task2Dataset(Dataset):\n",
    "    def __init__(self, data, root, return_filename=False):\n",
    "        self.data = [sample for sample in data if sample[0].startswith(\"task2\")]\n",
    "        self.return_filename = return_filename\n",
    "        self.root = root\n",
    "        self.captchalen = 2\n",
    "        \n",
    "    def __getitem__(self, index):\n",
    "        filename, label = self.data[index]\n",
    "        img = cv2.imread(f\"{self.root}/{filename}\")\n",
    "        img = cv2.cvtColor(img, cv2.COLOR_BGR2GRAY)\n",
    "        h, w= img.shape\n",
    "        img = cv2.resize(img, (72,72))\n",
    "        #img = np.mean(img, axis=2)\n",
    "        #imgplot = plt.imshow(img)\n",
    "        #plt.show()\n",
    "        if self.return_filename:\n",
    "            return torch.FloatTensor(img), filename\n",
    "        else:\n",
    "            return torch.FloatTensor(img), encode(label)\n",
    "\n",
    "    def __len__(self):\n",
    "        return len(self.data)"
   ]
  },
  {
   "cell_type": "code",
   "execution_count": 7,
   "metadata": {},
   "outputs": [],
   "source": [
    "class Task3Dataset(Dataset):\n",
    "    def __init__(self, data, root, return_filename=False):\n",
    "        self.data = [sample for sample in data if sample[0].startswith(\"task3\")]\n",
    "        self.return_filename = return_filename\n",
    "        self.root = root\n",
    "        self.captchalen = 4\n",
    "        \n",
    "    def __getitem__(self, index):\n",
    "        filename, label = self.data[index]\n",
    "        img = cv2.imread(f\"{self.root}/{filename}\")\n",
    "        img = cv2.cvtColor(img, cv2.COLOR_BGR2GRAY)\n",
    "        h, w= img.shape\n",
    "        #print(h,w) 72 96\n",
    "        #img = cv2.resize(img, (32, 32))\n",
    "        #img = np.mean(img, axis=2)\n",
    "        #imgplot = plt.imshow(img)\n",
    "        #plt.show()\n",
    "        if self.return_filename:\n",
    "            return torch.FloatTensor(img), filename\n",
    "        else:\n",
    "            return torch.FloatTensor(img), encode(label)\n",
    "\n",
    "    def __len__(self):\n",
    "        return len(self.data)"
   ]
  },
  {
   "cell_type": "code",
   "execution_count": 8,
   "metadata": {},
   "outputs": [],
   "source": [
    "\n",
    "train_data = []\n",
    "val_data = []\n",
    "\n",
    "with open(f'{TRAIN_PATH}/annotations.csv', newline='') as csvfile:\n",
    "    for row in csv.reader(csvfile, delimiter=','):\n",
    "        if random.random() < 0.7:\n",
    "            train_data.append(row)\n",
    "        else:\n",
    "            val_data.append(row)\n",
    "\n",
    "train_ds = Task1Dataset(train_data, root=TRAIN_PATH)\n",
    "train_dl = DataLoader(train_ds, batch_size=BATCH, num_workers=0, drop_last=True, shuffle=True)\n",
    "val_ds = Task1Dataset(val_data, root=TRAIN_PATH)\n",
    "val_dl = DataLoader(val_ds, batch_size=BATCH, num_workers=0, drop_last=False, shuffle=False)\n",
    "\n",
    "train2_ds = Task2Dataset(train_data, root=TRAIN_PATH)\n",
    "train2_dl = DataLoader(train2_ds, batch_size=BATCH, num_workers=0, drop_last=True, shuffle=True)\n",
    "val2_ds = Task2Dataset(val_data, root=TRAIN_PATH)\n",
    "val2_dl = DataLoader(val2_ds, batch_size=BATCH, num_workers=0, drop_last=False, shuffle=False)\n",
    "\n",
    "train3_ds = Task3Dataset(train_data, root=TRAIN_PATH)\n",
    "train3_dl = DataLoader(train3_ds, batch_size=BATCH, num_workers=0, drop_last=True, shuffle=True)\n",
    "val3_ds = Task3Dataset(val_data, root=TRAIN_PATH)\n",
    "val3_dl = DataLoader(val3_ds, batch_size=BATCH, num_workers=0, drop_last=False, shuffle=False)"
   ]
  },
  {
   "cell_type": "code",
   "execution_count": 9,
   "metadata": {},
   "outputs": [],
   "source": [
    "\n",
    "class Model(nn.Module):\n",
    "    def __init__(self, OUTPUT_LEN, TEMP_OUT):\n",
    "        super().__init__()\n",
    "        self.OUTPUT_LEN = OUTPUT_LEN\n",
    "        self.TEMP_OUT = TEMP_OUT\n",
    "        self.conv1 = nn.Sequential(\n",
    "            #nn.Conv2d(1, 3, kernel_size=3),\n",
    "            nn.Conv2d(1, 8, kernel_size=3),\n",
    "            nn.BatchNorm2d(8),\n",
    "            nn.Conv2d(8, 16, kernel_size=3),\n",
    "            nn.AvgPool2d(2),\n",
    "            nn.BatchNorm2d(16),\n",
    "            nn.ReLU()\n",
    "        )\n",
    "        self.conv2 = nn.Sequential(\n",
    "            \n",
    "            nn.Conv2d(16, 128, kernel_size=5),\n",
    "            nn.BatchNorm2d(128),\n",
    "            nn.Conv2d(128, 128, kernel_size=3),\n",
    "            nn.AvgPool2d(2),\n",
    "            nn.BatchNorm2d(128),\n",
    "            nn.ReLU()\n",
    "        )\n",
    "        self.conv3 = nn.Sequential(\n",
    "            nn.Conv2d(128, 256, kernel_size=3),\n",
    "            nn.BatchNorm2d(256),\n",
    "            nn.Conv2d(256, 256, kernel_size=5),\n",
    "            nn.MaxPool2d(2),\n",
    "            nn.BatchNorm2d(256),\n",
    "            nn.ReLU()\n",
    "        )\n",
    "        self.conv4 = nn.Sequential(\n",
    "            nn.Conv2d(256, 512, kernel_size=3),\n",
    "            nn.Conv2d(512, 512, kernel_size=3),\n",
    "            nn.MaxPool2d(2),\n",
    "            nn.BatchNorm2d(512),\n",
    "            nn.ReLU()\n",
    "        )\n",
    "        # convolutional layer (sees 30*30*3 tensor)\n",
    "        # linear layer (28*28*3 -> 100)\n",
    "        self.fc1 = nn.Linear(TEMP_OUT, 500)\n",
    "        self.drop = nn.Dropout(0.2)\n",
    "        # linear layer (100 -> 10)\n",
    "        self.fc2 = nn.Linear(500, self.OUTPUT_LEN)\n",
    "        \n",
    "        \n",
    "    def forward(self, x):\n",
    "        #print(x.size())\n",
    "        batch, height, width = x.shape\n",
    "        x = x.view(batch, 1, height, width)\n",
    "        #print(x.size())\n",
    "        # sequance of convolutional layers with relu activation\n",
    "        x = self.conv1(x)\n",
    "        #print(x.size())\n",
    "        x = self.conv2(x)\n",
    "        #x = self.drop(x)\n",
    "        #print(x.size())\n",
    "        x = self.conv3(x)\n",
    "        x = self.drop(x)\n",
    "        #print(x.size())\n",
    "        #x = self.conv4(x)\n",
    "        # flatten the image input\n",
    "        #print(x.shape)\n",
    "        x = x.view(-1, self.TEMP_OUT)\n",
    "        # 1st hidden layer with relu activation\n",
    "        #print(x.size())\n",
    "        x = F.relu(self.fc1(x))\n",
    "        # output-layer\n",
    "        #print(x.size())\n",
    "        \n",
    "        #print(x.size())\n",
    "        x = self.fc2(x)\n",
    "        #print(x.size())\n",
    "        return x"
   ]
  },
  {
   "cell_type": "code",
   "execution_count": 10,
   "metadata": {},
   "outputs": [
    {
     "data": {
      "text/plain": [
       "'transform = transforms.Compose([transforms.Resize((224,224)),\\n            transforms.Grayscale(num_output_channels=3),\\n            transforms.ToTensor()])'"
      ]
     },
     "execution_count": 10,
     "metadata": {},
     "output_type": "execute_result"
    }
   ],
   "source": [
    "'''transform = transforms.Compose([transforms.Resize((224,224)),\n",
    "            transforms.Grayscale(num_output_channels=3),\n",
    "            transforms.ToTensor()])'''"
   ]
  },
  {
   "cell_type": "code",
   "execution_count": 11,
   "metadata": {},
   "outputs": [],
   "source": [
    "def train(train_dl, val_dl, train_ds, epochs=80, TEMP_OUT=4096):\n",
    "    task = train_ds.captchalen\n",
    "    OUTPUT_LEN = len(NUM_ALPHA) * train_ds.captchalen\n",
    "    model = Model(OUTPUT_LEN = OUTPUT_LEN, TEMP_OUT = TEMP_OUT).to(device)\n",
    "    optimizer = torch.optim.Adam(model.parameters(), lr=5e-4)\n",
    "    #optimizer = optim.SGD(model.parameters(), lr=0.001, momentum=0.9)\n",
    "    loss_fn = nn.CrossEntropyLoss()\n",
    "\n",
    "    best_acc = 0\n",
    "    for epoch in range(epochs):\n",
    "        print(f\"Epoch [{epoch}]\")\n",
    "        model.train()\n",
    "        for image, ohlabel in train_dl:\n",
    "            image = image.to(device)\n",
    "            ohlabel = ohlabel.to(device,dtype=torch.float)\n",
    "            #label = torch.cuda.LongTensor(label)\n",
    "            \n",
    "            pred = model(image)\n",
    "            #print(pred.size())\n",
    "            #print(ohlabel.size())\n",
    "            loss = loss_fn(pred, ohlabel)\n",
    "            \n",
    "            optimizer.zero_grad()\n",
    "            loss.backward()\n",
    "            optimizer.step()\n",
    "            \n",
    "        sample_count = 0\n",
    "        correct_count = 0\n",
    "        model.eval()\n",
    "        for image, ohlabel in val_dl:\n",
    "            image = image.to(device)\n",
    "            ohlabel = ohlabel.to(device,dtype=torch.float)\n",
    "            \n",
    "            pred = model(image)\n",
    "            #print(pred.size())\n",
    "            #print(ohlabel.size())\n",
    "            loss = loss_fn(pred, ohlabel)\n",
    "            \n",
    "            #pred = torch.argmax(pred, dim=1)\n",
    "            \n",
    "\n",
    "            #print(torch.argmax(pred[:,0:36], dim=1))\n",
    "            #print(ohlabel)\n",
    "            same_i = [0]*task\n",
    "            for i in range(task):\n",
    "                pred_i = torch.argmax(pred[:,i*36:(i+1)*36], dim=1)\n",
    "                label = torch.argmax(ohlabel[:,i*36:(i+1)*36], dim=1)\n",
    "                same_i[i] = torch.eq(pred_i, label).type(torch.uint8)\n",
    "            result = same_i[0]\n",
    "            for i in range(1,task):\n",
    "                result = torch.logical_and(result, same_i[i]).type(torch.uint8)\n",
    "            #print(result)\n",
    "            sample_count += len(image)\n",
    "            #print(label.size())\n",
    "            #print(pred.size())\n",
    "            correct_count += result.sum()\n",
    "        val_acc = correct_count / sample_count\n",
    "        print(\"accuracy (validation):\", val_acc)\n",
    "        if best_acc <= val_acc:\n",
    "            best_acc = val_acc\n",
    "            PATH=f\"task{task}.pt\"\n",
    "            torch.save({\n",
    "                    'epoch': epoch+1,\n",
    "                    'model_state_dict': model.state_dict(),\n",
    "                    'optimizer_state_dict': optimizer.state_dict(),\n",
    "                    'loss': loss,\n",
    "                    }, PATH)\n",
    "    return PATH\n"
   ]
  },
  {
   "cell_type": "code",
   "execution_count": 12,
   "metadata": {},
   "outputs": [],
   "source": [
    "#Path1 = train(train_dl, val_dl, train_ds, epochs=30, TEMP_OUT=4096)\n",
    "#Path2 = train(train2_dl, val2_dl, train2_ds, epochs=60, TEMP_OUT=4096)\n",
    "#Path3 = train(train3_dl, val3_dl, train3_ds, epochs=120, TEMP_OUT=7168)"
   ]
  },
  {
   "cell_type": "code",
   "execution_count": 13,
   "metadata": {},
   "outputs": [],
   "source": [
    "#Path3 = train(train3_dl, val3_dl, train3_ds, epochs=200, TEMP_OUT=7168)"
   ]
  },
  {
   "cell_type": "code",
   "execution_count": 14,
   "metadata": {},
   "outputs": [],
   "source": [
    "test_data = []\n",
    "with open(f'{TEST_PATH}/../sample_submission.csv', newline='') as csvfile:\n",
    "    for row in csv.reader(csvfile, delimiter=','):\n",
    "        test_data.append(row)\n",
    "test_ds = Task1Dataset(test_data, root=TEST_PATH, return_filename=True)\n",
    "test_dl = DataLoader(test_ds, batch_size=BATCH, num_workers=0, drop_last=False, shuffle=False)\n",
    "test2_ds = Task2Dataset(test_data, root=TEST_PATH, return_filename=True)\n",
    "test2_dl = DataLoader(test2_ds, batch_size=BATCH, num_workers=0, drop_last=False, shuffle=False)\n",
    "test3_ds = Task3Dataset(test_data, root=TEST_PATH, return_filename=True)\n",
    "test3_dl = DataLoader(test3_ds, batch_size=BATCH, num_workers=0, drop_last=False, shuffle=False)"
   ]
  },
  {
   "cell_type": "code",
   "execution_count": 15,
   "metadata": {},
   "outputs": [
    {
     "data": {
      "text/plain": [
       "16"
      ]
     },
     "execution_count": 15,
     "metadata": {},
     "output_type": "execute_result"
    }
   ],
   "source": [
    "\n",
    "csv_writer = csv.writer(open('submission.csv', 'w', newline=''))\n",
    "csv_writer.writerow([\"filename\", \"label\"])"
   ]
  },
  {
   "cell_type": "code",
   "execution_count": 16,
   "metadata": {},
   "outputs": [],
   "source": [
    "\n",
    "def test(test_ds, test_dl, OUTPUT_LEN, PATH, TEMP_OUT = 4096):\n",
    "    task = test_ds.captchalen\n",
    "    csv_writer = csv.writer(open('submission.csv', 'a', newline=''))\n",
    "\n",
    "    #load model\n",
    "    model = Model(OUTPUT_LEN=OUTPUT_LEN,TEMP_OUT=TEMP_OUT).to(device)\n",
    "    optimizer = torch.optim.Adam(model.parameters(), lr=1e-3)\n",
    "    #optimizer = optim.SGD(model.parameters(), lr=0.001, momentum=0.9)\n",
    "    loss_fn = nn.CrossEntropyLoss()\n",
    "    checkpoint = torch.load(PATH)\n",
    "    model.load_state_dict(checkpoint['model_state_dict'])\n",
    "    optimizer.load_state_dict(checkpoint['optimizer_state_dict'])\n",
    "    epoch = checkpoint['epoch']\n",
    "    print(epoch)\n",
    "    model.eval()\n",
    "    \n",
    "    for image, filenames in test_dl:\n",
    "        idx=0\n",
    "        image = image.to(device)\n",
    "        \n",
    "        pred = model(image)\n",
    "        pred_str = [\"\"]*len(filenames)\n",
    "        for i in range(task):\n",
    "            pred_i = torch.argmax(pred[:,i*36:(i+1)*36], dim=1)\n",
    "            for b in range(BATCH):\n",
    "                pred_str[b] += NUM_ALPHA[pred_i[b]]\n",
    "\n",
    "        for i in range(len(filenames)):\n",
    "            csv_writer.writerow([filenames[i], pred_str[i]])\n",
    "\n",
    "    \n",
    "\n"
   ]
  },
  {
   "cell_type": "code",
   "execution_count": 17,
   "metadata": {},
   "outputs": [],
   "source": [
    "Path1 = \"task1.pt\"\n",
    "Path2 = \"task2.pt\"\n",
    "Path3 = \"task4.pt\""
   ]
  },
  {
   "cell_type": "code",
   "execution_count": 18,
   "metadata": {},
   "outputs": [
    {
     "name": "stdout",
     "output_type": "stream",
     "text": [
      "14\n",
      "57\n",
      "32\n"
     ]
    }
   ],
   "source": [
    "test(test_ds, test_dl, 36, Path1, TEMP_OUT=4096)\n",
    "test(test2_ds, test2_dl, 72, Path2, TEMP_OUT=4096)\n",
    "test(test3_ds, test3_dl, 144, Path3, TEMP_OUT=7168)"
   ]
  }
 ],
 "metadata": {
  "kernelspec": {
   "display_name": "Python 3.7.10 ('base')",
   "language": "python",
   "name": "python3"
  },
  "language_info": {
   "codemirror_mode": {
    "name": "ipython",
    "version": 3
   },
   "file_extension": ".py",
   "mimetype": "text/x-python",
   "name": "python",
   "nbconvert_exporter": "python",
   "pygments_lexer": "ipython3",
   "version": "3.7.10"
  },
  "orig_nbformat": 4,
  "vscode": {
   "interpreter": {
    "hash": "ab78bb3c465f8a9a3b2b3033a0b53f8ddb3d4f2700280c40496e40ae689e591d"
   }
  }
 },
 "nbformat": 4,
 "nbformat_minor": 2
}
