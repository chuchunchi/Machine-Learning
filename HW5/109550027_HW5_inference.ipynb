{
 "cells": [
  {
   "cell_type": "code",
   "execution_count": 14,
   "metadata": {},
   "outputs": [],
   "source": [
    "import csv\n",
    "import cv2\n",
    "import numpy as np\n",
    "import random\n",
    "import os\n",
    "\n",
    "from tqdm import tqdm\n",
    "\n",
    "import torch\n",
    "import torch.nn as nn\n",
    "from torchvision import models,transforms, datasets\n",
    "from torch.utils.data import Dataset, DataLoader\n",
    "import matplotlib.pyplot as plt\n",
    "import matplotlib.image as mpimg\n",
    "from torch.autograd import Variable\n",
    "import torch.nn.functional as F\n",
    "import torch.optim as optim\n",
    "\n",
    "import string"
   ]
  },
  {
   "cell_type": "code",
   "execution_count": 15,
   "metadata": {},
   "outputs": [],
   "source": [
    "#load model\n",
    "Path1 = \"task1.pt\"\n",
    "Path2 = \"task2.pt\"\n",
    "Path3 = \"task4.pt\""
   ]
  },
  {
   "cell_type": "code",
   "execution_count": 16,
   "metadata": {},
   "outputs": [],
   "source": [
    "TRAIN_PATH = \"train\"\n",
    "TEST_PATH = \"test\"\n",
    "BATCH = 50\n",
    "device = \"cuda\" if torch.cuda.is_available() else \"cpu\"\n",
    "# try device = \"cuda\" \n",
    "# and change your settings/accelerator to GPU if you want it to run faster"
   ]
  },
  {
   "cell_type": "code",
   "execution_count": 17,
   "metadata": {},
   "outputs": [],
   "source": [
    "ALPHABET = ['a', 'b', 'c', 'd', 'e', 'f', 'g', 'h', 'i', 'j', 'k', 'l', 'm', 'n', 'o', 'p', 'q', 'r', 's', 't', 'u', 'v', 'w', 'x', 'y', 'z']\n",
    "NUMBER = ['0', '1', '2', '3', '4', '5', '6', '7', '8', '9']\n",
    "NUM_ALPHA = NUMBER + ALPHABET\n",
    "def encode(label):\n",
    "    ohlabel = []\n",
    "    for l in label:\n",
    "        oh = [0]*len(NUM_ALPHA)\n",
    "        idx = NUM_ALPHA.index(l)\n",
    "        oh[idx] = 1\n",
    "        ohlabel += oh\n",
    "    #print(label)\n",
    "    #print(ohlabel)\n",
    "    return np.array(ohlabel)\n",
    "\n",
    "        "
   ]
  },
  {
   "cell_type": "code",
   "execution_count": 18,
   "metadata": {},
   "outputs": [],
   "source": [
    "class Task1Dataset(Dataset):\n",
    "    def __init__(self, data, root, return_filename=False):\n",
    "        self.data = [sample for sample in data if sample[0].startswith(\"task1\")]\n",
    "        self.return_filename = return_filename\n",
    "        self.root = root\n",
    "        self.captchalen = 1\n",
    "        self.h = None\n",
    "        self.w = None\n",
    "        self.c = 3\n",
    "    \n",
    "    def __getitem__(self, index):\n",
    "        filename, label = self.data[index]\n",
    "        img = cv2.imread(f\"{self.root}/{filename}\")\n",
    "        img = cv2.cvtColor(img, cv2.COLOR_BGR2GRAY)\n",
    "        h, w= img.shape\n",
    "        self.h = h\n",
    "        self.w = w\n",
    "        #img = cv2.resize(img, (512,512))\n",
    "        #img = np.mean(img, axis=2)\n",
    "        #print(img.shape)\n",
    "        if self.return_filename:\n",
    "            return torch.FloatTensor(img), filename\n",
    "        else:\n",
    "            return torch.FloatTensor(img), encode(label)\n",
    "\n",
    "    def __len__(self):\n",
    "        return len(self.data)"
   ]
  },
  {
   "cell_type": "code",
   "execution_count": 19,
   "metadata": {},
   "outputs": [],
   "source": [
    "class Task2Dataset(Dataset):\n",
    "    def __init__(self, data, root, return_filename=False):\n",
    "        self.data = [sample for sample in data if sample[0].startswith(\"task2\")]\n",
    "        self.return_filename = return_filename\n",
    "        self.root = root\n",
    "        self.captchalen = 2\n",
    "        \n",
    "    def __getitem__(self, index):\n",
    "        filename, label = self.data[index]\n",
    "        img = cv2.imread(f\"{self.root}/{filename}\")\n",
    "        img = cv2.cvtColor(img, cv2.COLOR_BGR2GRAY)\n",
    "        h, w= img.shape\n",
    "        img = cv2.resize(img, (72,72))\n",
    "        #img = np.mean(img, axis=2)\n",
    "        #imgplot = plt.imshow(img)\n",
    "        #plt.show()\n",
    "        if self.return_filename:\n",
    "            return torch.FloatTensor(img), filename\n",
    "        else:\n",
    "            return torch.FloatTensor(img), encode(label)\n",
    "\n",
    "    def __len__(self):\n",
    "        return len(self.data)"
   ]
  },
  {
   "cell_type": "code",
   "execution_count": 20,
   "metadata": {},
   "outputs": [],
   "source": [
    "class Task3Dataset(Dataset):\n",
    "    def __init__(self, data, root, return_filename=False):\n",
    "        self.data = [sample for sample in data if sample[0].startswith(\"task3\")]\n",
    "        self.return_filename = return_filename\n",
    "        self.root = root\n",
    "        self.captchalen = 4\n",
    "        \n",
    "    def __getitem__(self, index):\n",
    "        filename, label = self.data[index]\n",
    "        img = cv2.imread(f\"{self.root}/{filename}\")\n",
    "        img = cv2.cvtColor(img, cv2.COLOR_BGR2GRAY)\n",
    "        h, w= img.shape\n",
    "        #print(h,w) 72 96\n",
    "        #img = cv2.resize(img, (32, 32))\n",
    "        #img = np.mean(img, axis=2)\n",
    "        #imgplot = plt.imshow(img)\n",
    "        #plt.show()\n",
    "        if self.return_filename:\n",
    "            return torch.FloatTensor(img), filename\n",
    "        else:\n",
    "            return torch.FloatTensor(img), encode(label)\n",
    "\n",
    "    def __len__(self):\n",
    "        return len(self.data)"
   ]
  },
  {
   "cell_type": "code",
   "execution_count": 21,
   "metadata": {},
   "outputs": [],
   "source": [
    "\n",
    "class Model(nn.Module):\n",
    "    def __init__(self, OUTPUT_LEN, TEMP_OUT):\n",
    "        super().__init__()\n",
    "        self.OUTPUT_LEN = OUTPUT_LEN\n",
    "        self.TEMP_OUT = TEMP_OUT\n",
    "        self.conv1 = nn.Sequential(\n",
    "            #nn.Conv2d(1, 3, kernel_size=3),\n",
    "            nn.Conv2d(1, 8, kernel_size=3),\n",
    "            nn.BatchNorm2d(8),\n",
    "            nn.Conv2d(8, 16, kernel_size=3),\n",
    "            nn.AvgPool2d(2),\n",
    "            nn.BatchNorm2d(16),\n",
    "            nn.ReLU()\n",
    "        )\n",
    "        self.conv2 = nn.Sequential(\n",
    "            \n",
    "            nn.Conv2d(16, 128, kernel_size=5),\n",
    "            nn.BatchNorm2d(128),\n",
    "            nn.Conv2d(128, 128, kernel_size=3),\n",
    "            nn.AvgPool2d(2),\n",
    "            nn.BatchNorm2d(128),\n",
    "            nn.ReLU()\n",
    "        )\n",
    "        self.conv3 = nn.Sequential(\n",
    "            nn.Conv2d(128, 256, kernel_size=3),\n",
    "            nn.BatchNorm2d(256),\n",
    "            nn.Conv2d(256, 256, kernel_size=5),\n",
    "            nn.MaxPool2d(2),\n",
    "            nn.BatchNorm2d(256),\n",
    "            nn.ReLU()\n",
    "        )\n",
    "        self.conv4 = nn.Sequential(\n",
    "            nn.Conv2d(256, 512, kernel_size=3),\n",
    "            nn.Conv2d(512, 512, kernel_size=3),\n",
    "            nn.MaxPool2d(2),\n",
    "            nn.BatchNorm2d(512),\n",
    "            nn.ReLU()\n",
    "        )\n",
    "        # convolutional layer (sees 30*30*3 tensor)\n",
    "        # linear layer (28*28*3 -> 100)\n",
    "        self.fc1 = nn.Linear(TEMP_OUT, 500)\n",
    "        self.drop = nn.Dropout(0.2)\n",
    "        # linear layer (100 -> 10)\n",
    "        self.fc2 = nn.Linear(500, self.OUTPUT_LEN)\n",
    "        \n",
    "        \n",
    "    def forward(self, x):\n",
    "        #print(x.size())\n",
    "        batch, height, width = x.shape\n",
    "        x = x.view(batch, 1, height, width)\n",
    "        #print(x.size())\n",
    "        # sequance of convolutional layers with relu activation\n",
    "        x = self.conv1(x)\n",
    "        #print(x.size())\n",
    "        x = self.conv2(x)\n",
    "        #x = self.drop(x)\n",
    "        #print(x.size())\n",
    "        x = self.conv3(x)\n",
    "        x = self.drop(x)\n",
    "        #print(x.size())\n",
    "        #x = self.conv4(x)\n",
    "        # flatten the image input\n",
    "        #print(x.shape)\n",
    "        x = x.view(-1, self.TEMP_OUT)\n",
    "        # 1st hidden layer with relu activation\n",
    "        #print(x.size())\n",
    "        x = F.relu(self.fc1(x))\n",
    "        # output-layer\n",
    "        #print(x.size())\n",
    "        \n",
    "        #print(x.size())\n",
    "        x = self.fc2(x)\n",
    "        #print(x.size())\n",
    "        return x"
   ]
  },
  {
   "cell_type": "code",
   "execution_count": 22,
   "metadata": {},
   "outputs": [],
   "source": [
    "test_data = []\n",
    "with open(f'{TEST_PATH}/../sample_submission.csv', newline='') as csvfile:\n",
    "    for row in csv.reader(csvfile, delimiter=','):\n",
    "        test_data.append(row)\n",
    "test_ds = Task1Dataset(test_data, root=TEST_PATH, return_filename=True)\n",
    "test_dl = DataLoader(test_ds, batch_size=BATCH, num_workers=0, drop_last=False, shuffle=False)\n",
    "test2_ds = Task2Dataset(test_data, root=TEST_PATH, return_filename=True)\n",
    "test2_dl = DataLoader(test2_ds, batch_size=BATCH, num_workers=0, drop_last=False, shuffle=False)\n",
    "test3_ds = Task3Dataset(test_data, root=TEST_PATH, return_filename=True)\n",
    "test3_dl = DataLoader(test3_ds, batch_size=BATCH, num_workers=0, drop_last=False, shuffle=False)"
   ]
  },
  {
   "cell_type": "code",
   "execution_count": 23,
   "metadata": {},
   "outputs": [
    {
     "data": {
      "text/plain": [
       "16"
      ]
     },
     "execution_count": 23,
     "metadata": {},
     "output_type": "execute_result"
    }
   ],
   "source": [
    "\n",
    "csv_writer = csv.writer(open('submission.csv', 'w', newline=''))\n",
    "csv_writer.writerow([\"filename\", \"label\"])"
   ]
  },
  {
   "cell_type": "code",
   "execution_count": 24,
   "metadata": {},
   "outputs": [],
   "source": [
    "\n",
    "def test(test_ds, test_dl, OUTPUT_LEN, PATH, TEMP_OUT = 4096):\n",
    "    task = test_ds.captchalen\n",
    "    csv_writer = csv.writer(open('submission.csv', 'a', newline=''))\n",
    "\n",
    "    #load model\n",
    "    model = Model(OUTPUT_LEN=OUTPUT_LEN,TEMP_OUT=TEMP_OUT).to(device)\n",
    "    optimizer = torch.optim.Adam(model.parameters(), lr=1e-3)\n",
    "    #optimizer = optim.SGD(model.parameters(), lr=0.001, momentum=0.9)\n",
    "    loss_fn = nn.CrossEntropyLoss()\n",
    "    checkpoint = torch.load(PATH)\n",
    "    model.load_state_dict(checkpoint['model_state_dict'])\n",
    "    optimizer.load_state_dict(checkpoint['optimizer_state_dict'])\n",
    "    epoch = checkpoint['epoch']\n",
    "    print(epoch)\n",
    "    model.eval()\n",
    "    \n",
    "    for image, filenames in test_dl:\n",
    "        idx=0\n",
    "        image = image.to(device)\n",
    "        \n",
    "        pred = model(image)\n",
    "        pred_str = [\"\"]*len(filenames)\n",
    "        for i in range(task):\n",
    "            pred_i = torch.argmax(pred[:,i*36:(i+1)*36], dim=1)\n",
    "            for b in range(BATCH):\n",
    "                pred_str[b] += NUM_ALPHA[pred_i[b]]\n",
    "\n",
    "        for i in range(len(filenames)):\n",
    "            csv_writer.writerow([filenames[i], pred_str[i]])\n",
    "\n",
    "    \n",
    "\n"
   ]
  },
  {
   "cell_type": "code",
   "execution_count": 25,
   "metadata": {},
   "outputs": [
    {
     "name": "stdout",
     "output_type": "stream",
     "text": [
      "30\n",
      "86\n",
      "32\n"
     ]
    }
   ],
   "source": [
    "test(test_ds, test_dl, 36, Path1, TEMP_OUT=4096)\n",
    "test(test2_ds, test2_dl, 72, Path2, TEMP_OUT=4096)\n",
    "test(test3_ds, test3_dl, 144, Path3, TEMP_OUT=7168)"
   ]
  }
 ],
 "metadata": {
  "kernelspec": {
   "display_name": "base",
   "language": "python",
   "name": "python3"
  },
  "language_info": {
   "codemirror_mode": {
    "name": "ipython",
    "version": 3
   },
   "file_extension": ".py",
   "mimetype": "text/x-python",
   "name": "python",
   "nbconvert_exporter": "python",
   "pygments_lexer": "ipython3",
   "version": "3.7.10"
  },
  "orig_nbformat": 4,
  "vscode": {
   "interpreter": {
    "hash": "ab78bb3c465f8a9a3b2b3033a0b53f8ddb3d4f2700280c40496e40ae689e591d"
   }
  }
 },
 "nbformat": 4,
 "nbformat_minor": 2
}
