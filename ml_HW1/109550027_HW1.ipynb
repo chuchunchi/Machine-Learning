{
 "cells": [
  {
   "cell_type": "markdown",
   "metadata": {
    "id": "GTUWqDYQ6KrJ"
   },
   "source": [
    "## HW1: Logistic regression and Linear Regression using Gradient Descent\n",
    "In hw1, you need to implement linear regression by using only numpy, then train your implemented model by the provided dataset and test the performance with testing data\n",
    "\n",
    "Please note that only **NUMPY** can be used to implement your model, you will get no points by simply calling sklearn.linear_model.LinearRegression"
   ]
  },
  {
   "cell_type": "code",
   "execution_count": null,
   "metadata": {
    "id": "NI4nm--p6KrU"
   },
   "outputs": [],
   "source": [
    "import numpy as np \n",
    "import pandas as pd\n",
    "import matplotlib.pyplot as plt\n",
    "import math"
   ]
  },
  {
   "cell_type": "markdown",
   "metadata": {
    "id": "g5LQH--76KrZ"
   },
   "source": [
    "# Part 1. Linear regression model"
   ]
  },
  {
   "cell_type": "markdown",
   "metadata": {
    "id": "WoKJ-HNu6Kra"
   },
   "source": [
    "## Load regression data"
   ]
  },
  {
   "cell_type": "code",
   "execution_count": null,
   "metadata": {
    "id": "3lk-trvy6Krb"
   },
   "outputs": [],
   "source": [
    "x_train, x_test, y_train, y_test = np.load('regression_data.npy', allow_pickle=True)"
   ]
  },
  {
   "cell_type": "code",
   "execution_count": null,
   "metadata": {
    "colab": {
     "base_uri": "https://localhost:8080/",
     "height": 282
    },
    "executionInfo": {
     "elapsed": 784,
     "status": "ok",
     "timestamp": 1666232845788,
     "user": {
      "displayName": "紀竺均",
      "userId": "10396067312214412745"
     },
     "user_tz": -480
    },
    "id": "vvUIbsgI6Krc",
    "outputId": "aa9ae01e-fe59-41b3-8b7f-de62bc07d061"
   },
   "outputs": [
    {
     "data": {
      "text/plain": [
       "[<matplotlib.lines.Line2D at 0x7f925d551490>]"
      ]
     },
     "execution_count": 4,
     "metadata": {},
     "output_type": "execute_result"
    },
    {
     "data": {
      "image/png": "[encoded data removed]",
      "text/plain": [
       "<Figure size 432x288 with 1 Axes>"
      ]
     },
     "metadata": {
      "needs_background": "light"
     },
     "output_type": "display_data"
    }
   ],
   "source": [
    "plt.plot(x_train, y_train, '.')"
   ]
  },
  {
   "cell_type": "markdown",
   "metadata": {
    "id": "slqVJ_S66Krf"
   },
   "source": [
    "## Train your model \n",
    "### Pseudo code:\n",
    "1. Random initialize the weights, intercepts of the linear model\n",
    "\n",
    "**for i in range(iteration)**\n",
    "\n",
    "    2. Feed foward the training data into the model, get the output prediction\n",
    "    3. Calculating training loss by Mean Square Error of predcition and ground truth data\n",
    "    4. Calculating the gradients\n",
    "    5. Updating the weights and intercepts by the gradients * learning rate \n",
    "    \n",
    "**End of training**"
   ]
  },
  {
   "cell_type": "code",
   "execution_count": null,
   "metadata": {
    "colab": {
     "base_uri": "https://localhost:8080/"
    },
    "executionInfo": {
     "elapsed": 269,
     "status": "ok",
     "timestamp": 1666233965778,
     "user": {
      "displayName": "紀竺均",
      "userId": "10396067312214412745"
     },
     "user_tz": -480
    },
    "id": "4BuwDtp86Krh",
    "outputId": "8404ab40-6eb5-4031-ca90-8923dbdcca3f"
   },
   "outputs": [
    {
     "name": "stdout",
     "output_type": "stream",
     "text": [
      "b0:  -0.33375889502567796 b1:  52.743540461824786\n"
     ]
    }
   ],
   "source": [
    "trainloss = []\n",
    "def Mean_square_error(test, pred):\n",
    "    square_err = (test-pred)**2\n",
    "    return square_err.sum()*0.5*(1/len(test))\n",
    "\n",
    "def predict(x,b0,b1):\n",
    "  return b0 + b1*x\n",
    "def gradiDes():\n",
    "  time = 800\n",
    "  b0 = 0\n",
    "  b1 = 0\n",
    "  Lrate = 0.05\n",
    "  \n",
    "  for i in range(time):\n",
    "    ypred = np.array([])\n",
    "    ypred = b0+b1*x_train\n",
    "    b0 = b0 - (Lrate * np.sum(y_train-ypred) * float(-1/len(x_train)) )\n",
    "    b1 = b1 - (Lrate * np.sum((y_train-ypred)*x_train) * float(-1/len(x_train)) )\n",
    "    trainloss.append(Mean_square_error(y_train,ypred))\n",
    "  return b0,b1\n",
    "x_train = np.reshape(x_train, x_train.size)\n",
    "x_test = np.reshape(x_test, x_test.size)\n",
    "b0,b1 = gradiDes()\n",
    "print(\"b0: \",b0,\"b1: \",b1)\n"
   ]
  },
  {
   "cell_type": "markdown",
   "metadata": {
    "id": "64Vl74856Kri"
   },
   "source": [
    "## Test the performance on the testing data\n",
    "Inference the test data (x_test) by your model and calculate the loss of (y_test, y_pred)"
   ]
  },
  {
   "cell_type": "code",
   "execution_count": null,
   "metadata": {
    "colab": {
     "base_uri": "https://localhost:8080/",
     "height": 300
    },
    "executionInfo": {
     "elapsed": 874,
     "status": "ok",
     "timestamp": 1666233789438,
     "user": {
      "displayName": "紀竺均",
      "userId": "10396067312214412745"
     },
     "user_tz": -480
    },
    "id": "6lS7a4C96Krj",
    "outputId": "7feebc7d-00bf-4d6f-e8b2-073db1d0cb04"
   },
   "outputs": [
    {
     "name": "stdout",
     "output_type": "stream",
     "text": [
      "Mean_square_error:  55.21909628061997\n"
     ]
    },
    {
     "data": {
      "text/plain": [
       "[<matplotlib.lines.Line2D at 0x7f925cd76b10>]"
      ]
     },
     "execution_count": 12,
     "metadata": {},
     "output_type": "execute_result"
    },
    {
     "data": {
      "image/png": "[encoded data removed]",
      "text/plain": [
       "<Figure size 432x288 with 1 Axes>"
      ]
     },
     "metadata": {
      "needs_background": "light"
     },
     "output_type": "display_data"
    }
   ],
   "source": [
    "y_pred = predict(x_test,b0,b1)\n",
    "print(\"Mean_square_error: \",Mean_square_error(y_test, y_pred))\n",
    "#plt.plot(x_train,y_train,'.') \n",
    "plt.plot(x_test,y_test,'.') \n",
    "plt.plot(x_test, y_pred, '.')  # regression line"
   ]
  },
  {
   "cell_type": "code",
   "execution_count": null,
   "metadata": {
    "colab": {
     "base_uri": "https://localhost:8080/",
     "height": 282
    },
    "executionInfo": {
     "elapsed": 506,
     "status": "ok",
     "timestamp": 1666232962032,
     "user": {
      "displayName": "紀竺均",
      "userId": "10396067312214412745"
     },
     "user_tz": -480
    },
    "id": "jJ6XlhS1NgyK",
    "outputId": "2e4b4796-a89c-4bf2-a8b7-c1567141aea6"
   },
   "outputs": [
    {
     "data": {
      "image/png": "[encoded data removed]",
      "text/plain": [
       "<Figure size 432x288 with 1 Axes>"
      ]
     },
     "metadata": {
      "needs_background": "light"
     },
     "output_type": "display_data"
    }
   ],
   "source": [
    "plt.plot(np.arange(len(trainloss)), trainloss)\n",
    "plt.ylabel('Loss')\n",
    "plt.xlabel('Iterations')\n",
    "plt.show()"
   ]
  },
  {
   "cell_type": "markdown",
   "metadata": {
    "id": "aj1HLLYc6Krk"
   },
   "source": [
    "# Part 2. Logistic regreesion model"
   ]
  },
  {
   "cell_type": "markdown",
   "metadata": {
    "id": "Jr9ovnOP6Krl"
   },
   "source": [
    "## Load classification data"
   ]
  },
  {
   "cell_type": "code",
   "execution_count": null,
   "metadata": {
    "id": "Q0RTAZYD6Krn"
   },
   "outputs": [],
   "source": [
    "x_train, x_test, y_train, y_test = np.load('classification_data.npy', allow_pickle=True)"
   ]
  },
  {
   "cell_type": "code",
   "execution_count": null,
   "metadata": {
    "colab": {
     "base_uri": "https://localhost:8080/",
     "height": 282
    },
    "executionInfo": {
     "elapsed": 961,
     "status": "ok",
     "timestamp": 1666253430979,
     "user": {
      "displayName": "紀竺均",
      "userId": "10396067312214412745"
     },
     "user_tz": -480
    },
    "id": "F9TLDr1B6Kro",
    "outputId": "f8f56d76-3509-416a-8bb7-37016bc06183"
   },
   "outputs": [
    {
     "data": {
      "text/plain": [
       "<matplotlib.collections.PathCollection at 0x7f2fc4c15850>"
      ]
     },
     "execution_count": 18,
     "metadata": {},
     "output_type": "execute_result"
    },
    {
     "data": {
      "image/png": "[encoded data removed]",
      "text/plain": [
       "<Figure size 432x288 with 1 Axes>"
      ]
     },
     "metadata": {
      "needs_background": "light"
     },
     "output_type": "display_data"
    }
   ],
   "source": [
    "plt.scatter(x_train, np.ones_like(x_train), c=y_train)"
   ]
  },
  {
   "cell_type": "raw",
   "metadata": {
    "id": "fcORhD6V6Krp"
   },
   "source": [
    "## Train your model \n",
    "### Pseudo code:\n",
    "1. Random initialize the weights, intercepts of the linear model\n",
    "\n",
    "**for i in range(iteration)**\n",
    "\n",
    "    2. Feed foward the training data into the model, get the output prediction\n",
    "    3. Calculating training loss by Cross entrooy Error of predcition and ground truth data\n",
    "    4. Calculating the gradients\n",
    "    5. Updating the weights and intercepts by the gradients * learning rate \n",
    "    \n",
    "**End of training**"
   ]
  },
  {
   "cell_type": "code",
   "execution_count": null,
   "metadata": {
    "colab": {
     "base_uri": "https://localhost:8080/"
    },
    "executionInfo": {
     "elapsed": 1041,
     "status": "ok",
     "timestamp": 1666254756913,
     "user": {
      "displayName": "紀竺均",
      "userId": "10396067312214412745"
     },
     "user_tz": -480
    },
    "id": "p1y688aO6Krq",
    "outputId": "d31bdfcf-18d6-42a3-a959-7259f5860cd8"
   },
   "outputs": [
    {
     "name": "stdout",
     "output_type": "stream",
     "text": [
      "b0:  0.7365083362524347 b1:  3.239820397263054\n"
     ]
    }
   ],
   "source": [
    "x_train = np.reshape(x_train, x_train.size)\n",
    "x_test = np.reshape(x_test, x_test.size)\n",
    "trainloss_lo = []\n",
    "def Cross_entropy_error(test, pred):\n",
    "    return -np.sum(test*np.log(pred)+(1-test)*np.log(1-pred))\n",
    "\n",
    "def predict_lo(x,b0,b1):\n",
    "  a = b0 + b1*x\n",
    "  return 1/(1+np.exp(a*(-1)))\n",
    "def gradiDes_lo():\n",
    "  time = 1000\n",
    "  b0 = 0\n",
    "  b1 = 0\n",
    "  Lrate = 0.05\n",
    "  \n",
    "  for i in range(time):\n",
    "    ypred = predict_lo(x_train,b0,b1)\n",
    "    b0 = b0 - (Lrate * np.sum(y_train-ypred) * float(-1/len(x_train)) )\n",
    "    b1 = b1 - (Lrate * np.sum((y_train-ypred)*x_train) * float(-1/len(x_train)) )\n",
    "    trainloss_lo.append(Cross_entropy_error(y_train,ypred))\n",
    "  return b0,b1\n",
    "b0,b1 = gradiDes_lo()\n",
    "print(\"b0: \",b0,\"b1: \",b1)"
   ]
  },
  {
   "cell_type": "code",
   "execution_count": null,
   "metadata": {
    "colab": {
     "base_uri": "https://localhost:8080/",
     "height": 300
    },
    "executionInfo": {
     "elapsed": 328,
     "status": "ok",
     "timestamp": 1666254760347,
     "user": {
      "displayName": "紀竺均",
      "userId": "10396067312214412745"
     },
     "user_tz": -480
    },
    "id": "7jfNHIikXvEN",
    "outputId": "07b74867-2ac6-4ee7-bdb4-820b5b69a452"
   },
   "outputs": [
    {
     "name": "stdout",
     "output_type": "stream",
     "text": [
      "Cross_entropy_error:  45.225920481381024\n"
     ]
    },
    {
     "data": {
      "text/plain": [
       "[<matplotlib.lines.Line2D at 0x7f2fc4b2c890>]"
      ]
     },
     "execution_count": 27,
     "metadata": {},
     "output_type": "execute_result"
    },
    {
     "data": {
      "image/png": "[encoded data removed]",
      "text/plain": [
       "<Figure size 432x288 with 1 Axes>"
      ]
     },
     "metadata": {
      "needs_background": "light"
     },
     "output_type": "display_data"
    }
   ],
   "source": [
    "y_pred = predict_lo(x_test,b0,b1)\n",
    "print(\"Cross_entropy_error: \",Cross_entropy_error(y_test, y_pred))\n",
    "#plt.plot(x_train,y_train,'.') \n",
    "plt.plot(x_test,y_test,'.') \n",
    "plt.plot(x_test, y_pred, '.')  # regression line"
   ]
  },
  {
   "cell_type": "code",
   "execution_count": null,
   "metadata": {
    "colab": {
     "base_uri": "https://localhost:8080/",
     "height": 279
    },
    "executionInfo": {
     "elapsed": 309,
     "status": "ok",
     "timestamp": 1666254762595,
     "user": {
      "displayName": "紀竺均",
      "userId": "10396067312214412745"
     },
     "user_tz": -480
    },
    "id": "Cm3IbFlEYAmK",
    "outputId": "166af3db-3dfa-4528-af2a-26ca21200b78"
   },
   "outputs": [
    {
     "data": {
      "image/png": "[encoded data removed]",
      "text/plain": [
       "<Figure size 432x288 with 1 Axes>"
      ]
     },
     "metadata": {
      "needs_background": "light"
     },
     "output_type": "display_data"
    }
   ],
   "source": [
    "plt.plot(np.arange(len(trainloss_lo)), trainloss_lo)\n",
    "plt.ylabel('Loss')\n",
    "plt.xlabel('Iterations')\n",
    "plt.show()"
   ]
  }
 ],
 "metadata": {
  "colab": {
   "collapsed_sections": [],
   "provenance": []
  },
  "kernelspec": {
   "display_name": "Python 3 (ipykernel)",
   "language": "python",
   "name": "python3"
  },
  "language_info": {
   "codemirror_mode": {
    "name": "ipython",
    "version": 3
   },
   "file_extension": ".py",
   "mimetype": "text/x-python",
   "name": "python",
   "nbconvert_exporter": "python",
   "pygments_lexer": "ipython3",
   "version": "3.10.7"
  }
 },
 "nbformat": 4,
 "nbformat_minor": 0
}
